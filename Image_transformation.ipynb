{
 "cells": [
  {
   "cell_type": "markdown",
   "metadata": {},
   "source": [
    "# Image Transformations with NumPy\n",
    "\n",
    "In this project, we are going to create and transform images using the power of NumPy arrays and linear algebra. We will see how we can represent NumPy arrays as images and transform those images by treating them as matrices"
   ]
  },
  {
   "cell_type": "code",
   "execution_count": 1,
   "metadata": {},
   "outputs": [],
   "source": [
    "import numpy as np\n",
    "import matplotlib.pyplot as plt"
   ]
  },
  {
   "cell_type": "markdown",
   "metadata": {},
   "source": [
    "### Using the Helper Function\n",
    "\n",
    "1. In script.py, there are two things preloaded for you:\n",
    "\n",
    "    - heart_img: a NumPy array representing a 7x7 matrix of RGB values\n",
    "\n",
    "    - show_image(): a helper function that will allow you to show images easily throughout your project\n",
    "\n",
    "    We are going to use show_image() to reveal the photo heart_img represents. Before we do so, let’s go over the functionality of show_image().\n",
    "\n",
    "    show_image() takes in two parameters:\n",
    "\n",
    "    - image: a NumPy array of RGB values\n",
    "\n",
    "    - name_identifier: a string to title your photo (this will make it easy to keep track of what is being plotted throughout your project)\n",
    "\n",
    "    Use show_image() to plot heart_img with the title \"Heart Image\"."
   ]
  },
  {
   "cell_type": "code",
   "execution_count": 2,
   "metadata": {},
   "outputs": [],
   "source": [
    "heart_img = np.array([[255,0,0,255,0,0,255],\n",
    "              [0,255/2,255/2,0,255/2,255/2,0],\n",
    "          [0,255/2,255/2,255/2,255/2,255/2,0],\n",
    "          [0,255/2,255/2,255/2,255/2,255/2,0],\n",
    "              [255,0,255/2,255/2,255/2,0,255],\n",
    "                  [255,255,0,255/2,0,255,255],\n",
    "                  [255,255,255,0,255,255,255]])"
   ]
  },
  {
   "cell_type": "code",
   "execution_count": 3,
   "metadata": {},
   "outputs": [],
   "source": [
    "# This is a helper function that makes it easy for you to show images!\n",
    "\n",
    "def show_image(image, name_identifier):\n",
    "  plt.imshow(image, cmap=\"gray\")\n",
    "  plt.title(name_identifier)\n",
    "  plt.show()"
   ]
  },
  {
   "cell_type": "code",
   "execution_count": 4,
   "metadata": {},
   "outputs": [
    {
     "data": {
      "image/png": "[encoded data removed]",
      "text/plain": [
       "<Figure size 432x288 with 1 Axes>"
      ]
     },
     "metadata": {
      "needs_background": "light"
     },
     "output_type": "display_data"
    }
   ],
   "source": [
    "# Show heart image\n",
    "show_image(heart_img, \"Heart\")"
   ]
  },
  {
   "cell_type": "markdown",
   "metadata": {},
   "source": [
    "2. Can you figure out how the NumPy array heart_img creates that image you see? Take some time to think.\n",
    "\n",
    "    Notice that heart_img is a 7x7 matrix and that the heart image itself is 7x7 pixels. Using show_image(), we mapped each value inheart_img` to a 7x7 square matrix with grayscale colors that range from 0 (black) to 255 (white).\n",
    "\n",
    "    With this in mind, what are the heart_img values of the following sections of the heart image we see?\n",
    "\n",
    "    (6, 6) — bottom right\n",
    "    (3, 3) — center\n",
    "    (1, 3) — right below top center"
   ]
  },
  {
   "cell_type": "code",
   "execution_count": 5,
   "metadata": {},
   "outputs": [],
   "source": [
    "# The answers are:\n",
    "\n",
    "# (6, 6) — 255 (White)\n",
    "# (3, 3) — 255/2 (Gray)\n",
    "# (1, 3) — 0 (Black)"
   ]
  },
  {
   "cell_type": "markdown",
   "metadata": {},
   "source": [
    "### Image Transformations\n",
    "\n",
    "3. Now that we understand how a NumPy array maps to an image let’s do some fun image transformations!\n",
    "\n",
    "    Since our image is a matrix, we can do transformations based on linear algebra.\n",
    "\n",
    "    First, let’s invert the colors of our heart image.\n",
    "\n",
    "    Create a new variable called inverted_heart_img that subtracts each value in heart_img from 255.\n",
    "    \n",
    "    Show inverted_heart_img with the plot title “Inverted Heart Image.”"
   ]
  },
  {
   "cell_type": "code",
   "execution_count": 6,
   "metadata": {},
   "outputs": [
    {
     "data": {
      "image/png": "[encoded data removed]",
      "text/plain": [
       "<Figure size 432x288 with 1 Axes>"
      ]
     },
     "metadata": {
      "needs_background": "light"
     },
     "output_type": "display_data"
    }
   ],
   "source": [
    "# Invert color\n",
    "inverted_heart_img = 255 - heart_img\n",
    "show_image(inverted_heart_img, \"Inverted Heart\")"
   ]
  },
  {
   "cell_type": "markdown",
   "metadata": {},
   "source": [
    "4. Notice that the white pixels are now black, the black pixels are now white, while the gray pixels are the same since 255-(255/2) = 255/2\n",
    "\n",
    "    Let’s do another image transformation. This time let’s plot a rotation of heart_img.\n",
    "\n",
    "    Create a new variable called rotated_heart_img that swaps the rows and columns of heart_img.\n",
    "\n",
    "    Show rotated_heart_img with the plot title “Rotated Heart Image.”"
   ]
  },
  {
   "cell_type": "code",
   "execution_count": 7,
   "metadata": {},
   "outputs": [
    {
     "data": {
      "image/png": "[encoded data removed]",
      "text/plain": [
       "<Figure size 432x288 with 1 Axes>"
      ]
     },
     "metadata": {
      "needs_background": "light"
     },
     "output_type": "display_data"
    }
   ],
   "source": [
    "# Rotate heart\n",
    "rotated_heart_img = heart_img.T\n",
    "show_image(rotated_heart_img, \"Rotated Heart\")"
   ]
  },
  {
   "cell_type": "markdown",
   "metadata": {},
   "source": [
    "### More Advanced Operations\n",
    "\n",
    "6. Below the comment # Random Image, we have the following variable:\n",
    "\n",
    "    `random_img = np.random.randint(0,255, (7,7))`\n",
    "\n",
    "    Plot that image using show_image() with the title “Random Image.”"
   ]
  },
  {
   "cell_type": "code",
   "execution_count": 8,
   "metadata": {},
   "outputs": [
    {
     "data": {
      "image/png": "[encoded data removed]",
      "text/plain": [
       "<Figure size 432x288 with 1 Axes>"
      ]
     },
     "metadata": {
      "needs_background": "light"
     },
     "output_type": "display_data"
    }
   ],
   "source": [
    "# Random Image\n",
    "random_img = np.random.randint(0,255, (7,7))\n",
    "show_image(random_img, \"Random Image\")"
   ]
  },
  {
   "cell_type": "markdown",
   "metadata": {},
   "source": [
    "7. We want to solve for the matrix that creates heart_img given the following equation:\n",
    "\n",
    "    random_img⋅x=heart_img\n",
    "\n",
    "    Create a variable called x that is the solution to this equation. If you are not sure how to do this, check the hint for some guidance.\n",
    "\n",
    "    Plot x using show_image() with the title “x.”"
   ]
  },
  {
   "cell_type": "code",
   "execution_count": 11,
   "metadata": {},
   "outputs": [],
   "source": [
    "# Solve for heart image\n",
    "x = np.linalg.solve(random_img, heart_img)"
   ]
  },
  {
   "cell_type": "markdown",
   "metadata": {},
   "source": [
    "8. Create a variable called solved_heart_img that is equal to the product of random_img and x.\n",
    "\n",
    "    Plot solved_heart_img with the plot title “Solved Heart Image.”"
   ]
  },
  {
   "cell_type": "code",
   "execution_count": 10,
   "metadata": {},
   "outputs": [
    {
     "data": {
      "image/png": "[encoded data removed]",
      "text/plain": [
       "<Figure size 432x288 with 1 Axes>"
      ]
     },
     "metadata": {
      "needs_background": "light"
     },
     "output_type": "display_data"
    },
    {
     "data": {
      "image/png": "[encoded data removed]",
      "text/plain": [
       "<Figure size 432x288 with 1 Axes>"
      ]
     },
     "metadata": {
      "needs_background": "light"
     },
     "output_type": "display_data"
    }
   ],
   "source": [
    "solved_heart_img = np.matmul(random_img, x)\n",
    "show_image(x, \"x\")\n",
    "show_image(solved_heart_img, \"Solved Heart Image\")"
   ]
  }
 ],
 "metadata": {
  "kernelspec": {
   "display_name": "Python 3.9.7 ('base')",
   "language": "python",
   "name": "python3"
  },
  "language_info": {
   "codemirror_mode": {
    "name": "ipython",
    "version": 3
   },
   "file_extension": ".py",
   "mimetype": "text/x-python",
   "name": "python",
   "nbconvert_exporter": "python",
   "pygments_lexer": "ipython3",
   "version": "3.9.7"
  },
  "orig_nbformat": 4,
  "vscode": {
   "interpreter": {
    "hash": "51ba172a9db2ba9bd6569a8a7361d34beb499103f4f240382399ffb78e49dc3f"
   }
  }
 },
 "nbformat": 4,
 "nbformat_minor": 2
}
